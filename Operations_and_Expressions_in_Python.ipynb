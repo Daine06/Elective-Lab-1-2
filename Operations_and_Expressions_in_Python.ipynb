{
  "nbformat": 4,
  "nbformat_minor": 0,
  "metadata": {
    "colab": {
      "name": "Operations and Expressions in Python.ipynb",
      "provenance": [],
      "collapsed_sections": [],
      "authorship_tag": "ABX9TyP2ZUIwkwxKcPrek/9kKr+c",
      "include_colab_link": true
    },
    "kernelspec": {
      "name": "python3",
      "display_name": "Python 3"
    },
    "language_info": {
      "name": "python"
    }
  },
  "cells": [
    {
      "cell_type": "markdown",
      "metadata": {
        "id": "view-in-github",
        "colab_type": "text"
      },
      "source": [
        "<a href=\"https://colab.research.google.com/github/Daine06/Elective-Lab-1-2/blob/main/Operations_and_Expressions_in_Python.ipynb\" target=\"_parent\"><img src=\"https://colab.research.google.com/assets/colab-badge.svg\" alt=\"Open In Colab\"/></a>"
      ]
    },
    {
      "cell_type": "markdown",
      "source": [
        "Boolean Operators"
      ],
      "metadata": {
        "id": "j_SRS1fX81MV"
      }
    },
    {
      "cell_type": "code",
      "execution_count": 5,
      "metadata": {
        "colab": {
          "base_uri": "https://localhost:8080/"
        },
        "id": "vmkhVmP88Vv-",
        "outputId": "b17fb2e4-7946-4e8a-b874-25b6281eb4a0"
      },
      "outputs": [
        {
          "output_type": "stream",
          "name": "stdout",
          "text": [
            "False\n",
            "True\n",
            "True\n"
          ]
        }
      ],
      "source": [
        "print(9>10)\n",
        "print(9==9)\n",
        "print(10>9)"
      ]
    },
    {
      "cell_type": "markdown",
      "source": [
        "Bool Function"
      ],
      "metadata": {
        "id": "0gUfwJQc9XPO"
      }
    },
    {
      "cell_type": "code",
      "source": [
        "print(bool(\"Andrew\"))\n",
        "print(bool(1))\n",
        "print(bool())\n",
        "print(bool(0))\n",
        "print(bool(False))\n",
        "print(bool(None))\n",
        "print(bool([]))\n"
      ],
      "metadata": {
        "colab": {
          "base_uri": "https://localhost:8080/"
        },
        "id": "b4ziNWeb9W5O",
        "outputId": "a5797a0a-7cbc-4f9d-9b17-86ed0eb3cd9b"
      },
      "execution_count": 6,
      "outputs": [
        {
          "output_type": "stream",
          "name": "stdout",
          "text": [
            "True\n",
            "True\n"
          ]
        }
      ]
    },
    {
      "cell_type": "markdown",
      "source": [
        "Functions"
      ],
      "metadata": {
        "id": "ofBwWogP_UI3"
      }
    },
    {
      "cell_type": "code",
      "source": [
        "def trueFunction():\n",
        "  return \"Stacy\"\n",
        "\n",
        "print(trueFunction())\n"
      ],
      "metadata": {
        "colab": {
          "base_uri": "https://localhost:8080/"
        },
        "id": "6sYQzkpZ_W72",
        "outputId": "b538fa04-a593-4a13-c306-0bc20e546e4f"
      },
      "execution_count": 12,
      "outputs": [
        {
          "output_type": "stream",
          "name": "stdout",
          "text": [
            "Stacy\n"
          ]
        }
      ]
    },
    {
      "cell_type": "code",
      "source": [
        "def trueFunction();\n",
        "  return \"Stacy\"\n",
        "\n",
        "  if myFunction():\n",
        "    print(\"Sam\")\n",
        "    else:\n",
        "      print(\"Xavier\")"
      ],
      "metadata": {
        "id": "w2yJ2DmOAV_I"
      },
      "execution_count": null,
      "outputs": []
    },
    {
      "cell_type": "markdown",
      "source": [
        "Python Operator"
      ],
      "metadata": {
        "id": "EznP4RXqBvU5"
      }
    },
    {
      "cell_type": "code",
      "source": [
        "print(8+11)\n",
        "print(11-2)\n",
        "print(5*7)\n",
        "print(15/3)\n",
        "print(10**5)"
      ],
      "metadata": {
        "id": "kNYX-OsJBxmY"
      },
      "execution_count": null,
      "outputs": []
    },
    {
      "cell_type": "markdown",
      "source": [
        "Python Bitwise Operators"
      ],
      "metadata": {
        "id": "svfdJyEQB-WJ"
      }
    },
    {
      "cell_type": "code",
      "source": [
        "print(50 & 10)\n",
        "print(50 | 10)\n",
        "print(50 ^ 10)\n",
        "\n",
        "50 >> 5"
      ],
      "metadata": {
        "colab": {
          "base_uri": "https://localhost:8080/"
        },
        "id": "zrkUiayjCBGo",
        "outputId": "99cb9d43-b787-4244-d2f1-e46a579d4abf"
      },
      "execution_count": 15,
      "outputs": [
        {
          "output_type": "stream",
          "name": "stdout",
          "text": [
            "2\n",
            "58\n",
            "56\n"
          ]
        },
        {
          "output_type": "execute_result",
          "data": {
            "text/plain": [
              "1"
            ]
          },
          "metadata": {},
          "execution_count": 15
        }
      ]
    },
    {
      "cell_type": "markdown",
      "source": [
        "Python Assignment Operators"
      ],
      "metadata": {
        "id": "LzxKFL2eCU2H"
      }
    },
    {
      "cell_type": "code",
      "source": [
        "x = 30\n",
        "\n",
        "x//=6\n",
        "print(x)"
      ],
      "metadata": {
        "colab": {
          "base_uri": "https://localhost:8080/"
        },
        "id": "55oXQS0vCJHf",
        "outputId": "1f58b47b-07ba-4e28-fe86-38c5a43946bf"
      },
      "execution_count": 16,
      "outputs": [
        {
          "output_type": "stream",
          "name": "stdout",
          "text": [
            "5\n"
          ]
        }
      ]
    },
    {
      "cell_type": "markdown",
      "source": [
        "Logical Operators"
      ],
      "metadata": {
        "id": "-H_rOWwkDFkY"
      }
    },
    {
      "cell_type": "code",
      "source": [
        "q = \"Xavier\"\n",
        "z = \"Sam\"\n",
        "\n",
        "print (q and z)\n",
        "print (q or z)"
      ],
      "metadata": {
        "id": "u9D29FbuDHS3"
      },
      "execution_count": null,
      "outputs": []
    },
    {
      "cell_type": "markdown",
      "source": [
        "Identity Operators"
      ],
      "metadata": {
        "id": "2oNndwjpDZMZ"
      }
    },
    {
      "cell_type": "code",
      "source": [
        "q = \"Stacy\"\n",
        "z = \"Xavier\"\n",
        "\n",
        "q is z \n"
      ],
      "metadata": {
        "colab": {
          "base_uri": "https://localhost:8080/"
        },
        "id": "ZPAAcrG5Da9B",
        "outputId": "6460c083-157f-4eb2-bc81-f3006114b1bc"
      },
      "execution_count": 24,
      "outputs": [
        {
          "output_type": "execute_result",
          "data": {
            "text/plain": [
              "False"
            ]
          },
          "metadata": {},
          "execution_count": 24
        }
      ]
    }
  ]
}